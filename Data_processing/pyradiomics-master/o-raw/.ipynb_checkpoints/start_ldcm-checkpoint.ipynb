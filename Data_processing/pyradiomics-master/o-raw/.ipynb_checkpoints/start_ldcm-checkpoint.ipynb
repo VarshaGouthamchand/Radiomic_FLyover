{
 "cells": [
  {
   "cell_type": "code",
   "execution_count": 1,
   "id": "b9994620",
   "metadata": {},
   "outputs": [],
   "source": [
    "import subprocess\n",
    "import os"
   ]
  },
  {
   "cell_type": "code",
   "execution_count": 2,
   "id": "d5bf7543",
   "metadata": {},
   "outputs": [
    {
     "data": {
      "text/plain": [
       "'/home/jovyan/work/data'"
      ]
     },
     "execution_count": 2,
     "metadata": {},
     "output_type": "execute_result"
    }
   ],
   "source": [
    "final_directory = os.chdir('/home/jovyan/work/data')\n",
    "current_directory = os.getcwd()\n",
    "current_directory"
   ]
  },
  {
   "cell_type": "code",
   "execution_count": null,
   "id": "4f034551",
   "metadata": {},
   "outputs": [
    {
     "name": "stdout",
     "output_type": "stream",
     "text": [
      "Starting DICOM SCP on port 104\n",
      "SPARQL endpoint: http://rdf-store:7200/repositories/userRepo/statements\n",
      "association opened ef9e3f26-2dfc-4f6c-adf3-5f993bcd8597\n",
      "association closed: ef9e3f26-2dfc-4f6c-adf3-5f993bcd8597\n",
      "Try to start process\n",
      "Start processing folder ldcm_scp_data/ef9e3f26-2dfc-4f6c-adf3-5f993bcd8597. Depending on the folder size this might take a while.\n"
     ]
    }
   ],
   "source": [
    "subprocess.call(['ldcm-scp', '-s', 'http://rdf-store:7200/repositories/userRepo/statements', '104'])"
   ]
  },
  {
   "cell_type": "code",
   "execution_count": null,
   "id": "b569c7d3",
   "metadata": {},
   "outputs": [],
   "source": []
  }
 ],
 "metadata": {
  "kernelspec": {
   "display_name": "Python 3 (ipykernel)",
   "language": "python",
   "name": "python3"
  },
  "language_info": {
   "codemirror_mode": {
    "name": "ipython",
    "version": 3
   },
   "file_extension": ".py",
   "mimetype": "text/x-python",
   "name": "python",
   "nbconvert_exporter": "python",
   "pygments_lexer": "ipython3",
   "version": "3.10.8"
  }
 },
 "nbformat": 4,
 "nbformat_minor": 5
}
