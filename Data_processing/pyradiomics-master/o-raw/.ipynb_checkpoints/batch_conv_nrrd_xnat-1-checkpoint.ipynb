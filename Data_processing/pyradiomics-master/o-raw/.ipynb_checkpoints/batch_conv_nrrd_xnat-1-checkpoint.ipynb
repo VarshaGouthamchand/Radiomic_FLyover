{
 "cells": [
  {
   "cell_type": "markdown",
   "id": "0fcc84f5",
   "metadata": {},
   "source": [
    "# Batch conversion Dicom to NRRD in XNAT collection"
   ]
  },
  {
   "cell_type": "raw",
   "id": "5ea30128",
   "metadata": {},
   "source": [
    "By : Leonard Wee (postdoc), Tianchen Luo (intern) and Zhenwei Shi (PhD graduate)\n",
    "Thanks to : Johan van Soest (dicomdb function) and Hakim Achterberg (xnat api library)"
   ]
  },
  {
   "cell_type": "markdown",
   "id": "df2d2522",
   "metadata": {},
   "source": [
    "### import necessary components"
   ]
  },
  {
   "cell_type": "code",
   "execution_count": null,
   "id": "b760ba14",
   "metadata": {},
   "outputs": [],
   "source": [
    "pip install pandas"
   ]
  },
  {
   "cell_type": "code",
   "execution_count": 1,
   "id": "2ab3ecee",
   "metadata": {
    "scrolled": true
   },
   "outputs": [],
   "source": [
    "#ORAW modifications and integrations with XNAT by Leonard Wee during Oct -> Dec 2021\n",
    "\n",
    "from __future__ import print_function\n",
    "\n",
    "from time import process_time\n",
    "import os, subprocess, glob\n",
    "#import yaml\n",
    "#import ORAW\n",
    "import glob\n",
    "import shutil\n",
    "import pandas as pd\n",
    "from datetime import date, datetime\n",
    "from numpy.random import choice\n",
    "\n",
    "import xnat #needed for reading and writing to/from XNAT\n",
    "from DicomDatabase import DicomDatabase # dicom indexer by Johan van Soest\n"
   ]
  },
  {
   "cell_type": "markdown",
   "id": "c83d00c2",
   "metadata": {},
   "source": [
    "### define needed operations"
   ]
  },
  {
   "cell_type": "code",
   "execution_count": 2,
   "id": "46392327",
   "metadata": {},
   "outputs": [],
   "source": [
    "def upload_file(session, project, subject, experiment, assessment, resource, convfile):\n",
    "    xnat_project = session.projects[project]\n",
    "    xnat_subject = session.classes.SubjectData(parent=xnat_project, label=subject)\n",
    "    xnat_experiment = session.classes.CtSessionData(parent=xnat_subject, label=experiment)\n",
    "    xnat_resource = session.classes.ResourceCatalog(parent=xnat_experiment, label=resource)\n",
    "    #xnat_assessment = session.classes.QcAssessmentData(parent=xnat_experiment, label=assessment) #not used\n",
    "    #xnat_resource = session.classes.ResourceCatalog(parent=xnat_assessment, label=resource) #resource under experiment instead\n",
    "    xnat_resource.upload(convfile, os.path.basename(convfile)) # upload\n",
    "#    for file_ in data:\n",
    "#        resource.upload(file_, os.path.basename(file_))\n",
    "#    pass\n",
    "\n",
    "\n",
    "def cleanup_temp_folder(dirt):\n",
    "    if os.path.exists(dirt):\n",
    "        shutil.rmtree(dirt)\n",
    "        os.makedirs(dirt)\n",
    "    if not os.path.exists(dirt):\n",
    "        os.makedirs(dirt)\n",
    "        \n",
    "def RTSTRUCT2NRRD(pt,dt):\n",
    "    # convert contents of STRUCTWorkingDir to NRRD using CTWorkingDir as reference\n",
    "    f = open(os.path.join('./plastimatch','plastimatch_logfile.txt'), \"a\")\n",
    "    try:\n",
    "        subprocess.run(['plastimatch', 'convert',\\\n",
    "                '--input',STRUCTWorkingDir,\\\n",
    "                '--output-prefix',NRRDWorkingDir,\n",
    "                '--prefix-format','nrrd',\\\n",
    "                '--referenced-ct',CTWorkingDir,\\\n",
    "                '--prune-empty'], stdout=f)\n",
    "    except:\n",
    "        print(\"Error: plastimatch failed to convert RTSTRUCT to [roiname].nrrd\", file=f)\n",
    "    print(\"Subject: %s\" % (pt), file=f)\n",
    "    print(\"Datetime stamp : %s\" % (dt), file=f)\n",
    "    f.close()\n",
    "\n",
    "def AXIALCT2NRRD(pt,dt):\n",
    "    # convert contents of CTWorkingDir to NRRD\n",
    "    f = open(os.path.join('./plastimatch','plastimatch_logfile.txt'), \"a\")\n",
    "    try:\n",
    "        subprocess.run(['plastimatch', 'convert',\\\n",
    "              '--input',CTWorkingDir,\\\n",
    "              '--output-img',os.path.join(NRRDWorkingDir,'ct_image.nrrd')], stdout=f)\n",
    "    except:\n",
    "        print(\"Error: plastimatch failed to convert DICOM CT image to ct_image.nrrd\", file=f)\n",
    "    print(\"Subject: %s\" % (pt), file=f)\n",
    "    print(\"Datetime stamp : %s\" % (dt), file=f)\n",
    "    f.close()\n"
   ]
  },
  {
   "cell_type": "markdown",
   "id": "5b55a474",
   "metadata": {},
   "source": [
    "### configure user-dependent settings"
   ]
  },
  {
   "cell_type": "raw",
   "id": "0cca9d3e",
   "metadata": {},
   "source": [
    "- check the url using docker network inspect on the package defaul network, find the web application nginx\n",
    "- the procedure is as follows :\n",
    "- \"docker network ls\" on the command line\n",
    "- find your docker network bridge running all the xnat and python images, eg xnat-docker-compose-master_default\n",
    "- copy the network id on the left hand side\n",
    "- \"docker network inspect [the network id from above]\" on the same command line\n",
    "- scroll down a little and find the docker IP network address of the nginx gateway\n",
    "- record that docker IP address for the step below"
   ]
  },
  {
   "cell_type": "code",
   "execution_count": 3,
   "id": "8b7612a8",
   "metadata": {},
   "outputs": [],
   "source": [
    "#------------------------- USER SETTINGS -------------------------------\n",
    "\n",
    "# set up XNAT login credentials here\n",
    "# .......................\n",
    "#xnatUrl = 'https://xnat.bmia.nl'\n",
    "#xnatUser = 'leonardwee'\n",
    "xnatUrl = 'http://host.docker.internal:80'  #change me! e.g. 'http://localhost:8081/'\n",
    "xnatUser = 'admin'  #change me!\n",
    "xnatPass = 'admin'  #change me!\n",
    "xnatProject = 'Test_01'  #change me!"
   ]
  },
  {
   "cell_type": "markdown",
   "id": "36196b4a",
   "metadata": {},
   "source": [
    "### retrieve list of patients and dicom experiments from XNAT project"
   ]
  },
  {
   "cell_type": "code",
   "execution_count": 4,
   "id": "95ecbd84",
   "metadata": {
    "scrolled": true
   },
   "outputs": [
    {
     "name": "stderr",
     "output_type": "stream",
     "text": [
      "[WARNING] Detected a redirect from http://host.docker.internal:80 to http://host.docker.internal/, using http://host.docker.internal/ from now on\n"
     ]
    },
    {
     "name": "stdout",
     "output_type": "stream",
     "text": [
      "Test_01\tHN1004\tHN1004\n"
     ]
    }
   ],
   "source": [
    "with xnat.connect(xnatUrl, user=xnatUser, password=xnatPass) as session:\n",
    "    myProject= session.projects[xnatProject]\n",
    "    mySubjectsList = myProject.subjects.values()\n",
    "    for s in mySubjectsList:\n",
    "        mySubjectID = s.label\n",
    "        mySubject = myProject.subjects[mySubjectID]\n",
    "        myExperimentsList = mySubject.experiments.values()\n",
    "        for e in myExperimentsList:\n",
    "            myExperimentID = e.label\n",
    "            myExperiment = mySubject.experiments[myExperimentID]\n",
    "            print(xnatProject + \"\\t\" + mySubjectID + \"\\t\" + myExperimentID)"
   ]
  },
  {
   "cell_type": "markdown",
   "id": "695511dd",
   "metadata": {},
   "source": [
    "### main section"
   ]
  },
  {
   "cell_type": "code",
   "execution_count": 7,
   "id": "397e38d0",
   "metadata": {
    "scrolled": false
   },
   "outputs": [
    {
     "name": "stderr",
     "output_type": "stream",
     "text": [
      "[WARNING] Detected a redirect from http://host.docker.internal:80 to http://host.docker.internal/, using http://host.docker.internal/ from now on\n",
      " 74.5 MiB |                                               #       |   4.2 MiB/s\n"
     ]
    },
    {
     "name": "stdout",
     "output_type": "stream",
     "text": [
      "Processing: HN1004\n",
      "Starting with RTStruct 1.3.6.1.4.1.40744.29.291291385501682882766092594799514278972\n"
     ]
    },
    {
     "ename": "FileNotFoundError",
     "evalue": "[Errno 2] No such file or directory: './plastimatch/plastimatch_logfile.txt'",
     "output_type": "error",
     "traceback": [
      "\u001b[0;31m---------------------------------------------------------------------------\u001b[0m",
      "\u001b[0;31mFileNotFoundError\u001b[0m                         Traceback (most recent call last)",
      "Input \u001b[0;32mIn [7]\u001b[0m, in \u001b[0;36m<module>\u001b[0;34m\u001b[0m\n\u001b[1;32m     58\u001b[0m     right_now \u001b[38;5;241m=\u001b[39m datetime\u001b[38;5;241m.\u001b[39mnow()\u001b[38;5;241m.\u001b[39mstrftime(\u001b[38;5;124m\"\u001b[39m\u001b[38;5;132;01m%d\u001b[39;00m\u001b[38;5;124m/\u001b[39m\u001b[38;5;124m%\u001b[39m\u001b[38;5;124mm/\u001b[39m\u001b[38;5;124m%\u001b[39m\u001b[38;5;124mY \u001b[39m\u001b[38;5;124m%\u001b[39m\u001b[38;5;124mH:\u001b[39m\u001b[38;5;124m%\u001b[39m\u001b[38;5;124mM:\u001b[39m\u001b[38;5;124m%\u001b[39m\u001b[38;5;124mS\u001b[39m\u001b[38;5;124m\"\u001b[39m)\n\u001b[1;32m     59\u001b[0m     cleanup_temp_folder(NRRDWorkingDir)\n\u001b[0;32m---> 60\u001b[0m     \u001b[43mRTSTRUCT2NRRD\u001b[49m\u001b[43m(\u001b[49m\u001b[43mptid\u001b[49m\u001b[43m,\u001b[49m\u001b[43mright_now\u001b[49m\u001b[43m)\u001b[49m\n\u001b[1;32m     61\u001b[0m     AXIALCT2NRRD(ptid,right_now)\n\u001b[1;32m     64\u001b[0m \u001b[38;5;66;03m#filter the produced NRRD files for GTV-[0-9] and ct_image\u001b[39;00m\n",
      "Input \u001b[0;32mIn [2]\u001b[0m, in \u001b[0;36mRTSTRUCT2NRRD\u001b[0;34m(pt, dt)\u001b[0m\n\u001b[1;32m     21\u001b[0m \u001b[38;5;28;01mdef\u001b[39;00m \u001b[38;5;21mRTSTRUCT2NRRD\u001b[39m(pt,dt):\n\u001b[1;32m     22\u001b[0m     \u001b[38;5;66;03m# convert contents of STRUCTWorkingDir to NRRD using CTWorkingDir as reference\u001b[39;00m\n\u001b[0;32m---> 23\u001b[0m     f \u001b[38;5;241m=\u001b[39m \u001b[38;5;28;43mopen\u001b[39;49m\u001b[43m(\u001b[49m\u001b[43mos\u001b[49m\u001b[38;5;241;43m.\u001b[39;49m\u001b[43mpath\u001b[49m\u001b[38;5;241;43m.\u001b[39;49m\u001b[43mjoin\u001b[49m\u001b[43m(\u001b[49m\u001b[38;5;124;43m'\u001b[39;49m\u001b[38;5;124;43m./plastimatch\u001b[39;49m\u001b[38;5;124;43m'\u001b[39;49m\u001b[43m,\u001b[49m\u001b[38;5;124;43m'\u001b[39;49m\u001b[38;5;124;43mplastimatch_logfile.txt\u001b[39;49m\u001b[38;5;124;43m'\u001b[39;49m\u001b[43m)\u001b[49m\u001b[43m,\u001b[49m\u001b[43m \u001b[49m\u001b[38;5;124;43m\"\u001b[39;49m\u001b[38;5;124;43ma\u001b[39;49m\u001b[38;5;124;43m\"\u001b[39;49m\u001b[43m)\u001b[49m\n\u001b[1;32m     24\u001b[0m     \u001b[38;5;28;01mtry\u001b[39;00m:\n\u001b[1;32m     25\u001b[0m         subprocess\u001b[38;5;241m.\u001b[39mrun([\u001b[38;5;124m'\u001b[39m\u001b[38;5;124mplastimatch\u001b[39m\u001b[38;5;124m'\u001b[39m, \u001b[38;5;124m'\u001b[39m\u001b[38;5;124mconvert\u001b[39m\u001b[38;5;124m'\u001b[39m,\\\n\u001b[1;32m     26\u001b[0m                 \u001b[38;5;124m'\u001b[39m\u001b[38;5;124m--input\u001b[39m\u001b[38;5;124m'\u001b[39m,STRUCTWorkingDir,\\\n\u001b[1;32m     27\u001b[0m                 \u001b[38;5;124m'\u001b[39m\u001b[38;5;124m--output-prefix\u001b[39m\u001b[38;5;124m'\u001b[39m,NRRDWorkingDir,\n\u001b[1;32m     28\u001b[0m                 \u001b[38;5;124m'\u001b[39m\u001b[38;5;124m--prefix-format\u001b[39m\u001b[38;5;124m'\u001b[39m,\u001b[38;5;124m'\u001b[39m\u001b[38;5;124mnrrd\u001b[39m\u001b[38;5;124m'\u001b[39m,\\\n\u001b[1;32m     29\u001b[0m                 \u001b[38;5;124m'\u001b[39m\u001b[38;5;124m--referenced-ct\u001b[39m\u001b[38;5;124m'\u001b[39m,CTWorkingDir,\\\n\u001b[1;32m     30\u001b[0m                 \u001b[38;5;124m'\u001b[39m\u001b[38;5;124m--prune-empty\u001b[39m\u001b[38;5;124m'\u001b[39m], stdout\u001b[38;5;241m=\u001b[39mf)\n",
      "\u001b[0;31mFileNotFoundError\u001b[0m: [Errno 2] No such file or directory: './plastimatch/plastimatch_logfile.txt'"
     ]
    }
   ],
   "source": [
    "XNATdownload = \"./XnatDownload\"\n",
    "CTWorkingDir = \"./CTFolder\"\n",
    "STRUCTWorkingDir = \"./StructFolder\"\n",
    "NRRDWorkingDir = \"./NrrdFolder\"\n",
    "currentResourceLabel = datetime.now().strftime(\"%Y%m%d_%H%M\")\n",
    "#\n",
    "#----------------O-RAW pyradiomics parameters -------------------\n",
    "#pyradiomics_params_file = './ParamsSettings/Pyradiomics_ARGOS_test.yaml' #change this to your own params if needed\n",
    "pyradiomics_params_file = './ParamsSettings/Pyradiomics_Params.yaml' #change this to your own params if needed\n",
    "\n",
    "\n",
    "start_time = process_time()\n",
    "\n",
    "# -----------------------------------------------------------\n",
    "with xnat.connect(xnatUrl, user=xnatUser, password=xnatPass) as session:\n",
    "    myProject= session.projects[xnatProject]\n",
    "    mySubjectsList = myProject.subjects.values()\n",
    "    for s in mySubjectsList:\n",
    "        mySubjectID = s.label\n",
    "        mySubject = myProject.subjects[mySubjectID]\n",
    "        myExperimentsList = mySubject.experiments.values()\n",
    "        for e in myExperimentsList:\n",
    "            myExperimentID = e.label\n",
    "            myExperiment = mySubject.experiments[myExperimentID]\n",
    "            cleanup_temp_folder(XNATdownload)\n",
    "            myExperiment.download_dir(XNATdownload)\n",
    "\n",
    "            # initialize dicom DB\n",
    "            dicomDb = DicomDatabase()\n",
    "            dicomDb.parseFolder(XNATdownload)\n",
    "        \n",
    "            # main\n",
    "            for ptid in dicomDb.getPatientIds():\n",
    "                print(\"Processing: %s\" % (ptid)) # get patient by ID\n",
    "                myChoice = choice(['D','V'],p=[0.8,0.2]) #selects the patient into development subset with prob 0.8\n",
    "                \n",
    "                myPatient = dicomDb.getPatient(ptid)\n",
    "                # loop over RTStructs of this patient\n",
    "                for myStructUID in myPatient.getRTStructs():\n",
    "                    print(\"Starting with RTStruct %s\" % myStructUID)\n",
    "                    # Get RTSTRUCT by SOP Instance UID\n",
    "                    myStruct = myPatient.getRTStruct(myStructUID)\n",
    "                    # Get CT which is referenced by this RTStruct, and is linked to the same patient\n",
    "                    # mind that this can be None, as only a struct, without corresponding CT scan is found\n",
    "                    myCT = myPatient.getCTForRTStruct(myStruct)\n",
    "                \n",
    "                    # clear the working CT/STRUCT folder\n",
    "                    cleanup_temp_folder(CTWorkingDir)\n",
    "                    cleanup_temp_folder(STRUCTWorkingDir)\n",
    "                        \n",
    "                    #only if we have both RTStruct and CT\n",
    "                    if myCT is not None:\n",
    "                        shutil.move(myStruct.getFileLocation(),os.path.join(STRUCTWorkingDir,'struct.dcm')) # move RTSTRUCT file to tmp folder as 'struct.dcm'\n",
    "                        slices = myCT.getSlices()\n",
    "                        for i in range(len(slices)):\n",
    "                            shutil.move(slices[i],os.path.join(CTWorkingDir,str(i)+\".dcm\")) #move CT files to tmp folder as incremental file names\n",
    "                        \n",
    "                        right_now = datetime.now().strftime(\"%d/%m/%Y %H:%M:%S\")\n",
    "                        cleanup_temp_folder(NRRDWorkingDir)\n",
    "                        RTSTRUCT2NRRD(ptid,right_now)\n",
    "                        AXIALCT2NRRD(ptid,right_now)\n",
    "                    \n",
    "                    \n",
    "                    #filter the produced NRRD files for GTV-[0-9] and ct_image\n",
    "                    for fname in glob.glob(NRRDWorkingDir + \"/GTV-[0-9].nrrd\"):\n",
    "                        print(\"Located GTV file : \"+fname)\n",
    "                        resource_folder = myChoice + '_' + currentResourceLabel\n",
    "                        resource_folder = resource_folder + '_' + fname.split('/')[-1].split(\".\")[0]\n",
    "                        #resource_folder = datetime.now().strftime(\"%Y%m%d_%H%M\")\n",
    "                        try:\n",
    "                            upload_file(session, xnatProject, mySubjectID, myExperimentID, '0', resource_folder, fname)\n",
    "                            print(\"Saved MASK as resource in XNAT under experiment.\")\n",
    "                            print(\"%s;%s;%s;%s;%s\" %(xnatProject,mySubjectID, myExperimentID, resource_folder, fname))\n",
    "                        except:\n",
    "                            print(\"Failed to save MASK to XNAT!\")                            \n",
    "                    \n",
    "                    #NRRD files for CT image - assumed to be only one at a time in NRRDWorkingDir\n",
    "                    for fname in glob.glob(NRRDWorkingDir + \"/ct_image.nrrd\"):\n",
    "                        print(\"Located CT IMAGE file : \"+fname)\n",
    "                        #resource_folder = fname.split('/')[-1].split(\".\")[0]\n",
    "                        resource_folder = myChoice + '_' + currentResourceLabel\n",
    "                        resource_folder = resource_folder + \"_ct_image\"\n",
    "                        try:\n",
    "                            upload_file(session, xnatProject, mySubjectID, myExperimentID, '0', resource_folder, fname)\n",
    "                            print(\"Saved CT_IMAGE as resource in XNAT under experiment.\")\n",
    "                            print(\"%s;%s;%s;%s;%s\" %(xnatProject,mySubjectID, myExperimentID, resource_folder, fname))\n",
    "                        except:\n",
    "                            print(\"Failed to save CT_IMAGE to XNAT!\")\n",
    "                    \n",
    "                    #pyradiomics values possibly useful for comparing GTVs\n",
    "                    #-- comment out the following to skip over\n",
    "                    for fname in glob.glob(NRRDWorkingDir + \"/GTV-[0-9].nrrd\"):\n",
    "                        ctname = os.path.join(NRRDWorkingDir,'ct_image.nrrd') #assume fixed\n",
    "                        rname = fname.split('/')[-1].split(\".\")[0] + '.csv' #named as GTV-[0-9].csv\n",
    "                        rname = os.path.join(NRRDWorkingDir,rname) #fixes small error with output to csv file\n",
    "                        resource_folder = \"pyr_\" + currentResourceLabel\n",
    "                        resource_folder = resource_folder + '_' + fname.split('/')[-1].split(\".\")[0]\n",
    "                        #run pyradiomics\n",
    "                        subprocess.run(['pyradiomics',ctname, fname,\\\n",
    "                                            '--param',pyradiomics_params_file,\\\n",
    "                                            '-o',rname,'-f','csv'],capture_output=True)\n",
    "                        try:\n",
    "                            upload_file(session, xnatProject, mySubjectID, myExperimentID, '0', resource_folder, rname)\n",
    "                        except:\n",
    "                            print(\"--- error processing radiomics! -----\")\n",
    "                    \n",
    "                    #conclude and move onto next subject\n",
    "                    print(\"Done for RTStruct %s of subject %s .... moving on ....\" % (myStructUID, ptid))\n",
    "                    \n",
    "                    #only use the break for the purpose of testing\n",
    "                    #break\n",
    "\n",
    "##### ----------------------------------------------------------------------------\n",
    "\n",
    "stop_time = process_time()\n",
    "print(\"Time elapsed : %s\" % (stop_time-start_time))\n"
   ]
  },
  {
   "cell_type": "code",
   "execution_count": null,
   "id": "9ab4ebc5",
   "metadata": {},
   "outputs": [],
   "source": []
  }
 ],
 "metadata": {
  "kernelspec": {
   "display_name": "Python 3 (ipykernel)",
   "language": "python",
   "name": "python3"
  },
  "language_info": {
   "codemirror_mode": {
    "name": "ipython",
    "version": 3
   },
   "file_extension": ".py",
   "mimetype": "text/x-python",
   "name": "python",
   "nbconvert_exporter": "python",
   "pygments_lexer": "ipython3",
   "version": "3.9.7"
  }
 },
 "nbformat": 4,
 "nbformat_minor": 5
}
