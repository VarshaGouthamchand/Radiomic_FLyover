{
 "cells": [
  {
   "cell_type": "markdown",
   "id": "0fcc84f5",
   "metadata": {},
   "source": [
    "# Batch download of NRRD from XNAT collection"
   ]
  },
  {
   "cell_type": "code",
   "execution_count": 1,
   "id": "2ab3ecee",
   "metadata": {
    "scrolled": true
   },
   "outputs": [],
   "source": [
    "import os, subprocess, glob\n",
    "import glob\n",
    "import shutil\n",
    "import xnat #needed for reading and writing to/from XNAT"
   ]
  },
  {
   "cell_type": "code",
   "execution_count": 2,
   "id": "46392327",
   "metadata": {},
   "outputs": [],
   "source": [
    "def cleanup_temp_folder(dirt):\n",
    "    if os.path.exists(dirt):\n",
    "        shutil.rmtree(dirt)\n",
    "        os.makedirs(dirt)\n",
    "    if not os.path.exists(dirt):\n",
    "        os.makedirs(dirt)"
   ]
  },
  {
   "cell_type": "code",
   "execution_count": 3,
   "id": "8b7612a8",
   "metadata": {},
   "outputs": [],
   "source": [
    "#------------------------- USER SETTINGS -------------------------------\n",
    "\n",
    "# set up XNAT login credentials here\n",
    "# .......................\n",
    "xnatUrl = 'http://xnat-nginx:80'  #change me! e.g. 'http://localhost:8081/'\n",
    "# - check the url using docker network inspect on the package defaul network, find the web application nginx\n",
    "# - the procedure is\n",
    "# - docker network ls\n",
    "# - find your docker network bridge running all the xnat and python images, eg xnat-docker-compose-master_default\n",
    "# - copy the network id on the left hand side\n",
    "# - docker network inspect [the network id from above]\n",
    "# - scroll down a little and find the docker IP network address of the nginx gateway\n",
    "#\n",
    "#xnatUrl = 'https://xnat.bmia.nl'\n",
    "xnatUser = 'admin'  #change me!\n",
    "#xnatUser = 'leonardwee'\n",
    "xnatPass = 'admin'  #change me!\n",
    "xnatProject = 'Test_01'  #change me!\n"
   ]
  },
  {
   "cell_type": "markdown",
   "id": "695511dd",
   "metadata": {},
   "source": [
    "### main section"
   ]
  },
  {
   "cell_type": "code",
   "execution_count": 4,
   "id": "a6925ea1",
   "metadata": {},
   "outputs": [],
   "source": [
    "PyradiomicsWorkingDir = './pre-process-RADIOMICS'\n",
    "PyradiomicsSetLabel = 'pyr_'"
   ]
  },
  {
   "cell_type": "code",
   "execution_count": 5,
   "id": "ed12b677",
   "metadata": {},
   "outputs": [],
   "source": [
    "#CAREFUL - empties the following before filling it up from XNAT\n",
    "cleanup_temp_folder(PyradiomicsWorkingDir)"
   ]
  },
  {
   "cell_type": "code",
   "execution_count": 6,
   "id": "485b9ad7",
   "metadata": {},
   "outputs": [
    {
     "name": "stderr",
     "output_type": "stream",
     "text": [
      "[WARNING] Detected a redirect from http://xnat-nginx:80 to http://xnat-nginx/, using http://xnat-nginx/ from now on\n",
      "100% of  47.3 KiB |################################|  11.9 MiB/s Time:  0:00:00\n",
      "100% of  47.2 KiB |################################|   4.9 MiB/s Time:  0:00:00\n"
     ]
    }
   ],
   "source": [
    "# -----------------------------------------------------------\n",
    "with xnat.connect(xnatUrl, user=xnatUser, password=xnatPass) as session:\n",
    "    myProject = session.projects[xnatProject]\n",
    "    mySubjectsList = myProject.subjects.values()\n",
    "    for s in mySubjectsList:\n",
    "            mySubjectID = s.label\n",
    "            mySubject = myProject.subjects[mySubjectID]\n",
    "            myExperimentsList = mySubject.experiments.values()\n",
    "            for e in myExperimentsList:\n",
    "                myExperimentID = e.label\n",
    "                myExperiment = mySubject.experiments[myExperimentID]\n",
    "                myResourcesList = myExperiment.resources.values()\n",
    "                for r in myResourcesList:\n",
    "                    myResourceID = r.label\n",
    "                    if myResourceID.startswith(PyradiomicsSetLabel):\n",
    "                        myResource = myExperiment.resources[myResourceID]\n",
    "                        for i in range(len(myResource.files)):\n",
    "                            myFile = myResource.files[i].data['Name']\n",
    "                            if myFile.startswith('GTV'):\n",
    "                                myStem = mySubjectID + '_' + myResourceID + '.csv'\n",
    "                                try:\n",
    "                                    myResource.files[0].download(os.path.join(PyradiomicsWorkingDir,myStem))\n",
    "                                except:\n",
    "                                    print('FAILURE - could not save ' + os.path.join(PyradiomicsWorkingDir,myStem))\n"
   ]
  },
  {
   "cell_type": "code",
   "execution_count": 7,
   "id": "e9982162",
   "metadata": {},
   "outputs": [],
   "source": [
    "import pandas as pd\n",
    "\n",
    "all_files = glob.glob(PyradiomicsWorkingDir + \"/*.csv\")\n",
    "li = []\n",
    "\n",
    "for fname in all_files:\n",
    "    #temp = fname.split('.')[1].split('/')[-1]\n",
    "    #subj = temp.split('_')[0]\n",
    "    #mask = temp.split('_')[-1]\n",
    "    try :\n",
    "        df = pd.read_csv(fname, index_col=None, header=0)\n",
    "        #df.insert(0, 'Subject_label', subj)\n",
    "        #df.insert(1, 'ROI_label', mask)\n",
    "        li.append(df)\n",
    "    except :\n",
    "        print(\"This did not have the expected data!\")\n",
    "\n",
    "frame = pd.concat(li, axis=0, ignore_index=True)\n",
    "\n",
    "frame.to_csv('./plastimatch_version_hn1_strategy_wavelets.csv', index=False)\n",
    "               "
   ]
  },
  {
   "cell_type": "code",
   "execution_count": null,
   "id": "76fc9fc7",
   "metadata": {},
   "outputs": [],
   "source": []
  }
 ],
 "metadata": {
  "kernelspec": {
   "display_name": "Python 3 (ipykernel)",
   "language": "python",
   "name": "python3"
  },
  "language_info": {
   "codemirror_mode": {
    "name": "ipython",
    "version": 3
   },
   "file_extension": ".py",
   "mimetype": "text/x-python",
   "name": "python",
   "nbconvert_exporter": "python",
   "pygments_lexer": "ipython3",
   "version": "3.10.8"
  }
 },
 "nbformat": 4,
 "nbformat_minor": 5
}
